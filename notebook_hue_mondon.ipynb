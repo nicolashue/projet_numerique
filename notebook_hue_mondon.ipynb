{
 "cells": [
  {
   "cell_type": "markdown",
   "metadata": {},
   "source": [
    "## Projet numérique : lignes de niveau\n",
    "## Arnaud Mondon, Nicolas Hue\n"
   ]
  },
  {
   "cell_type": "markdown",
   "metadata": {},
   "source": [
    "On importe les modules nécessaires, et on définit les fonctions d'exemple."
   ]
  },
  {
   "cell_type": "code",
   "execution_count": 15,
   "metadata": {},
   "outputs": [
    {
     "name": "stdout",
     "output_type": "stream",
     "text": [
      "Requirement already satisfied: autograd in c:\\users\\nico\\anaconda3\\lib\\site-packages (1.3)\n",
      "Requirement already satisfied: numpy>=1.12 in c:\\users\\nico\\anaconda3\\lib\\site-packages (from autograd) (1.16.4)\n",
      "Requirement already satisfied: future>=0.15.2 in c:\\users\\nico\\anaconda3\\lib\\site-packages (from autograd) (0.17.1)\n"
     ]
    }
   ],
   "source": [
    "!pip install autograd\n",
    "import autograd as ag\n",
    "from autograd import numpy as np\n",
    "import matplotlib.pyplot as plt"
   ]
  },
  {
   "cell_type": "code",
   "execution_count": 2,
   "metadata": {},
   "outputs": [],
   "source": [
    "f = lambda x,y : x**2+y**2\n",
    "g = lambda x,y : 2*(np.exp(-x**2-y**2)-np.exp(-(x-1)**2-(y-1)**2))"
   ]
  },
  {
   "cell_type": "markdown",
   "metadata": {},
   "source": [
    "On définit le carré unité comme le carré ([0,1],[0,1])."
   ]
  },
  {
   "cell_type": "markdown",
   "metadata": {},
   "source": [
    "## Contour simple"
   ]
  },
  {
   "cell_type": "markdown",
   "metadata": {},
   "source": [
    "On définit d'abord une fonction qui calcule le gradient de la fonction f au point (x,y), en utilisant le module autograd."
   ]
  },
  {
   "cell_type": "code",
   "execution_count": 3,
   "metadata": {},
   "outputs": [],
   "source": [
    "def grad_f(f,x,y): #calcul du gradient de f en (x,y)\n",
    "    a,b=float(x),float(y)\n",
    "    gradient=ag.grad\n",
    "    return np.array([gradient(f,0)(a,b),gradient(f,1)(a,b)])"
   ]
  },
  {
   "cell_type": "markdown",
   "metadata": {},
   "source": [
    "La fonction **find_seed** permet de déterminer une approximation d'un point du segment [(0,0),(0,1)] en lequel f vaut c, en effectuant une recherche par dichotomie. On est certain de trouver un antécédent à c sur le côté gauche si c est compris entre f(0,0) et f(0,1) car f est continue."
   ]
  },
  {
   "cell_type": "code",
   "execution_count": 4,
   "metadata": {},
   "outputs": [],
   "source": [
    "def find_seed(f,c=0,eps=2**(-26)): #dichotomie pour calculer le point de départ\n",
    "    \n",
    "    if (f(0,0)-c)*(f(0,1)-c)>0:\n",
    "        return None\n",
    "    \n",
    "    else :\n",
    "        a=0\n",
    "        b=1\n",
    "        delta=b-a\n",
    "        \n",
    "        while delta > eps :\n",
    "            d=(a+b)/2\n",
    "            \n",
    "            if (f(0,a)-c)*(f(0,d)-c)>0:\n",
    "                a=d\n",
    "            \n",
    "            else :\n",
    "                b=d\n",
    "            \n",
    "            delta=b-a\n",
    "        \n",
    "        return (a+b)/2"
   ]
  },
  {
   "cell_type": "markdown",
   "metadata": {},
   "source": [
    "On définit également une fonction qui calcule la norme euclidienne d'un vecteur de R²."
   ]
  },
  {
   "cell_type": "code",
   "execution_count": 5,
   "metadata": {},
   "outputs": [],
   "source": [
    "def norme(vect):#calcul de distance\n",
    "    return np.sqrt(vect[0]**2+vect[1]**2)"
   ]
  },
  {
   "cell_type": "markdown",
   "metadata": {},
   "source": [
    "La fonction **calcul_suivant** détermine les coordonnées du prochain point de la ligne de niveau de f. Pour cela, on calcule le gradient de f, et on se déplace d'un vecteur de norme delta, orthogonal au gradient.\n",
    "En effet, le gradient de f est orthogonal à ses lignes de niveau : le vecteur orthogonal choisi est alors colinéaire à la tangente de la ligne de niveau au point (x,y). La ligne de niveau peut alors être approximée au premier ordre en delta par ce vecteur.\n",
    "La direction de ce vecteur (orienté de + ou - 90° par rapport au gradient) peut être précisée, ce qui permet de choisir dans quel sens parcourir la ligne de niveau. On a ajouté cette fonctionnalité car sans elle, le programme pouvait directement sortir du carré unité et donc ne rien tracer."
   ]
  },
  {
   "cell_type": "code",
   "execution_count": 6,
   "metadata": {},
   "outputs": [],
   "source": [
    "def calcul_suivant(f,x,y,delta,direc=1):#calcul du point approché suivant de la ligne de niveau à partir de (x,y)\n",
    "    gfx, gfy=grad_f(f,x,y)\n",
    "    ortho = np.array([-gfy,gfx])\n",
    "    ortho = ortho*delta / norme(ortho)*direc\n",
    "    \n",
    "    return x+ortho[0],y+ortho[1]"
   ]
  },
  {
   "cell_type": "markdown",
   "metadata": {},
   "source": [
    "La fonction **simple_contour** permet de tracer une ligne de niveau de valeur c de f sur le carré unité, en partant d'un point sur le côté gauche du carré et en renvoyant les listes des abscisses et des ordonnées des points de la ligne.\n",
    "Pour cela, on détermine le point de départ de la ligne de niveau grâce à la fonction **find_seed**.\n",
    "\n",
    "Si un tel point est trouvé, on effectue un premier test afin de déterminer dans quel direction la ligne de niveau doit être suivie pour rester dans le carré élémentaire.\n",
    "Une fois cette direction trouvée, on calcule de manière itérative les coordonnées des points de la ligne de niveau grâce à la fonction **calcul_suivant**, en s'arrêtant dès qu'un des points sort du carré élémentaire."
   ]
  },
  {
   "cell_type": "code",
   "execution_count": 7,
   "metadata": {},
   "outputs": [],
   "source": [
    "def simple_contour(f,c=0,delta=0.01):#renvoie la liste des points d'une ligne de niveau de valeur c pour le carré unité\n",
    "    x=0\n",
    "    y=find_seed(f,c)\n",
    "    lx=[]\n",
    "    ly=[]\n",
    "    \n",
    "    if y==None :\n",
    "        return [],[]\n",
    "    \n",
    "    else :\n",
    "        x_test,y_test=calcul_suivant(f,x,y,delta)\n",
    "        if x_test>=0 and x_test<=1 and y_test>=0 and y_test<=1 :#permet de choisr le bon sens de la ligne de niveau (pour entrer dans le carré souhaité)\n",
    "            direc = 1\n",
    "        else :\n",
    "            direc = -1\n",
    "        i=0\n",
    "        while x>=0 and x<=1 and y>=0 and y<=1:\n",
    "            lx.append(x)\n",
    "            ly.append(y)\n",
    "            x,y=calcul_suivant(f,x,y,delta,direc)\n",
    "            i+=1\n",
    "        return lx,ly"
   ]
  },
  {
   "cell_type": "markdown",
   "metadata": {},
   "source": [
    "On fait un test de notre programme avec la fonction quadratique f, et on affiche le résultat."
   ]
  },
  {
   "cell_type": "code",
   "execution_count": 44,
   "metadata": {},
   "outputs": [
    {
     "data": {
      "image/png": "[encoded data removed]",
      "text/plain": [
       "<Figure size 432x288 with 1 Axes>"
      ]
     },
     "metadata": {
      "needs_background": "light"
     },
     "output_type": "display_data"
    }
   ],
   "source": [
    "for i in [0,0.3,0.5,1]:\n",
    "\n",
    "    X,Y= simple_contour(f,c=i,delta=0.01)\n",
    "    X1,Y1=simple_contour(f,c=i,delta=0.1)\n",
    "    X2,Y2=simple_contour(f,c=i,delta=0.001)\n",
    "    # affiche les lignes de niveau obtenues avec notre fonction pour différentes valeurs de delta\n",
    "    plt.plot(X,Y,\"r\") #rouge : delta = 0.01\n",
    "    plt.plot(X1,Y1,\"g\") #vert : delta = 0.1\n",
    "    plt.plot(X2,Y2,\"k\") #noir : delta = 0.001\n",
    "    \n",
    "    a=np.linspace(0,np.sqrt(i),1000)\n",
    "    plt.plot(a,np.sqrt(i-a**2),'b') # affiche les lignes de niveau théoriques en bleu\n",
    "\n",
    "plt.axis('equal')\n",
    "plt.show()"
   ]
  },
  {
   "cell_type": "markdown",
   "metadata": {},
   "source": [
    "On remarque premièrement que l'erreur s'accumule le long d'une ligne de niveau, du fait de la méthode itérative employée.\n",
    "Cependant, cette erreur devient négligeable lorsque delta est suffisament petit.\n",
    "\n",
    "Ainsi, pour obtenir une ligne de niveau cohérente, il faut que delta soit petit ou que la longueur de la ligne de niveau soit faible (cela sera rendu possible par le découpage du domaine en carrés plus petits)."
   ]
  },
  {
   "cell_type": "markdown",
   "metadata": {},
   "source": [
    "# Contour Complexe\n",
    "\n",
    "Maintenant que nous avons réalisé une fonction qui trace une ligne de niveau pour un carré unitaire, il faut étendre cette fonction à tout rectangle."
   ]
  },
  {
   "cell_type": "markdown",
   "metadata": {},
   "source": [
    " Pour cela on réalise un découpage de ce rectangle en carrés de tailles quelconques puis on transforme f (avec déplacement, dilatation et rotation) afin de lui appliquer la fonction contour réalisée ci-dessus."
   ]
  },
  {
   "cell_type": "markdown",
   "metadata": {},
   "source": [
    "Dans un premier temps il faut définir une nouvelle fonction à partir de la restriction de f sur l'ensemble [x1,x2],[y1,y2]. Cette fonction sera alors définie sur le carré unité."
   ]
  },
  {
   "cell_type": "code",
   "execution_count": 8,
   "metadata": {},
   "outputs": [],
   "source": [
    "def f_carre(f,x1,x2,y1,y2):# transformation de la fonction en une fonction définie sur le carré unité\n",
    "    nouv_f = lambda x,y : f(x1+x*(x2-x1),y1+y*(y2-y1))\n",
    "    return nouv_f"
   ]
  },
  {
   "cell_type": "markdown",
   "metadata": {},
   "source": [
    "La fonction **simple_contour** cherche uniquement un départ d'une ligne de niveau sur le bord gauche. Afin de rendre notre réprésentation des lignes de niveau plus complète, il convient de faire cette recherche sur chacun des bords. Nous réalisons donc cela en réutilisant la fonction **find_seed** définie dans la première partie sur la fonction f renvoyée par **f_carre** et en lui appliquant des symétries avec **f_symetrie**."
   ]
  },
  {
   "cell_type": "code",
   "execution_count": 9,
   "metadata": {},
   "outputs": [],
   "source": [
    "def f_symetrie(nouv_f,bord):#fait une rotation de la fonction pour pouvoir partir du bord gauche\n",
    "    if bord == 'g' :\n",
    "        return nouv_f\n",
    "    if bord == 'b' :\n",
    "        return lambda x,y : nouv_f(y,x)\n",
    "    if bord == 'd':\n",
    "        return lambda x,y : nouv_f(1-x,y)\n",
    "    if bord == 'h':\n",
    "        return lambda x,y : nouv_f(1-y,1-x)"
   ]
  },
  {
   "cell_type": "markdown",
   "metadata": {},
   "source": [
    "On définit alors la fonction sur laquelle on va appliquer **simple_contour** (après transformation et rotation)."
   ]
  },
  {
   "cell_type": "code",
   "execution_count": 10,
   "metadata": {},
   "outputs": [],
   "source": [
    "def f_transformee(f,x1,x2,y1,y2,bord):# renvoie la fonction après contraction/déplacement/rotation\n",
    "    f_inter=f_carre(f,x1,x2,y1,y2)\n",
    "    f_finale=f_symetrie(f_inter,bord)\n",
    "    return f_finale"
   ]
  },
  {
   "cell_type": "markdown",
   "metadata": {},
   "source": [
    "Pour un carré [x1,x2],[y1,y2] on définit quatre nouvelles fonctions (une pour chaque bord et on applique **simple_contour** qui nous renverra de 0 à 4 lignes de niveau . On applique ensuite les transformations inverses (rotation, dillatation, déplacement) aux points renvoyés."
   ]
  },
  {
   "cell_type": "code",
   "execution_count": 11,
   "metadata": {},
   "outputs": [],
   "source": [
    "def contour_carre(f,c,delta,x1,x2,y1,y2):# renvoie les lignes de niveau sur un carré quelconque à partir de chacun des bords\n",
    "    X,Y=[],[]\n",
    "    for bord in {'g','d','b','h'}:\n",
    "        f_transfo=f_transformee(f,x1,x2,y1,y2,bord)\n",
    "        lx,ly=simple_contour(f_transfo,c,delta)\n",
    "        if lx == []:\n",
    "            continue\n",
    "        lx,ly=np.array(lx),np.array(ly)\n",
    "        if bord == 'b':\n",
    "            lx,ly=ly,lx\n",
    "\n",
    "        elif bord == 'd':\n",
    "            lx=1-lx\n",
    "        \n",
    "        elif bord =='h':\n",
    "            lx,ly=1-ly,1-lx\n",
    "        \n",
    "        lx = lx*(x2-x1)+x1\n",
    "        ly = ly*(y2-y1)+y1\n",
    "        lx,ly=list(lx),list(ly)\n",
    "        X.append(lx)\n",
    "        Y.append(ly)\n",
    "    return X,Y"
   ]
  },
  {
   "cell_type": "markdown",
   "metadata": {},
   "source": [
    "Il suffit maintenant d'appliquer cette fonction pour chacun des carrés."
   ]
  },
  {
   "cell_type": "code",
   "execution_count": 12,
   "metadata": {},
   "outputs": [],
   "source": [
    "def contour(f,c=0.0,xc=[0.0,1.0],yc=[0.0,1.0],delta=0.01):#renvoie les lignes de niveau pour une rectangle quelconque à partir de subdivision en carrés élémentaires\n",
    "    n=len(xc)\n",
    "    m=len(yc)\n",
    "    X,Y=[],[]\n",
    "    for j in range(m-1):#ligne\n",
    "        for i in range (n-1):#colonne\n",
    "            x,y=contour_carre(f,c,delta,xc[i],xc[i+1],yc[j],yc[j+1])\n",
    "            X+=x\n",
    "            Y+=y\n",
    "\n",
    "    return X,Y"
   ]
  },
  {
   "cell_type": "markdown",
   "metadata": {},
   "source": [
    "Pour vérifier le fonctionnement de nos fonctions nous les appliquons à la fonction g donnée en exemple et traçons quelques unes de ses lignes de niveau."
   ]
  },
  {
   "cell_type": "code",
   "execution_count": 53,
   "metadata": {
    "scrolled": false
   },
   "outputs": [
    {
     "data": {
      "image/png": "[encoded data removed]",
      "text/plain": [
       "<Figure size 432x288 with 1 Axes>"
      ]
     },
     "metadata": {
      "needs_background": "light"
     },
     "output_type": "display_data"
    }
   ],
   "source": [
    "for i in [-1.5,-1,-0.5,0,0.5,1,1.5]:\n",
    "\n",
    "    #on affiche les lignes de niveau pour des deltas différents\n",
    "    X,Y= contour(g,c=i,xc=[-2,-1,0,1,2],yc=[-1,0,1,2],delta=0.01)\n",
    "    X1,Y1= contour(g,c=i,xc=[-2,-1,0,1,2],yc=[-1,0,1,2],delta=0.1)\n",
    "    X2,Y2= contour(g,c=i,xc=[-2,-1.5,-1,-0.5,0,0.5,1,1.5,2],yc=[-1,-0.5,0,0.5,1,1.5,2],delta=0.1)\n",
    "    \n",
    "    for x,y in zip(X1,Y1): # bleu : delta = 0.1\n",
    "        plt.plot(x,y,\"b\")\n",
    "    for x,y in zip(X2,Y2): #noir : delta = 0.1 mais carrés de taille 1/2\n",
    "        plt.plot(x,y,\"k\")\n",
    "    for x,y in zip(X,Y): #rouge : delta = 0.01\n",
    "        plt.plot(x,y,\"r\")\n",
    "\n",
    "plt.axis('equal') \n",
    "plt.show()"
   ]
  },
  {
   "cell_type": "markdown",
   "metadata": {},
   "source": [
    "On voit que pour ne pas avoir de discontinuité, il faut prendre delta suffisament petit. Le découpage en carrés de petites tailles permet de prendre en compte des lignes de niveau qui ne coupent pas les bords du domaine et limite la propagation d'erreur."
   ]
  }
 ],
 "metadata": {
  "kernelspec": {
   "display_name": "Python 3",
   "language": "python",
   "name": "python3"
  },
  "language_info": {
   "codemirror_mode": {
    "name": "ipython",
    "version": 3
   },
   "file_extension": ".py",
   "mimetype": "text/x-python",
   "name": "python",
   "nbconvert_exporter": "python",
   "pygments_lexer": "ipython3",
   "version": "3.7.3"
  }
 },
 "nbformat": 4,
 "nbformat_minor": 2
}
